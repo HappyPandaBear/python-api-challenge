{
 "cells": [
  {
   "cell_type": "markdown",
   "metadata": {},
   "source": [
    "# WeatherPy\n",
    "----\n",
    "\n",
    "#### Note\n",
    "* Instructions have been included for each segment. You do not have to follow them exactly, but they are included to help you think through the steps."
   ]
  },
  {
   "cell_type": "code",
   "execution_count": 1,
   "metadata": {
    "scrolled": true
   },
   "outputs": [],
   "source": [
    "# Dependencies and Setup\n",
    "import matplotlib.pyplot as plt\n",
    "import pandas as pd\n",
    "import numpy as np\n",
    "import requests\n",
    "import time\n",
    "from scipy.stats import linregress\n",
    "\n",
    "# Import API key\n",
    "from api_keys import weather_api_key\n",
    "\n",
    "# Incorporated citipy to determine city based on latitude and longitude\n",
    "from citipy import citipy\n",
    "\n",
    "# Output File (CSV)\n",
    "output_data_file = \"output_data/cities.csv\"\n",
    "\n",
    "# Range of latitudes and longitudes\n",
    "lat_range = (-90, 90)\n",
    "lng_range = (-180, 180)"
   ]
  },
  {
   "cell_type": "markdown",
   "metadata": {},
   "source": [
    "## Generate Cities List"
   ]
  },
  {
   "cell_type": "code",
   "execution_count": 2,
   "metadata": {},
   "outputs": [
    {
     "data": {
      "text/plain": [
       "644"
      ]
     },
     "execution_count": 2,
     "metadata": {},
     "output_type": "execute_result"
    }
   ],
   "source": [
    "# List for holding lat_lngs and cities\n",
    "lat_lngs = []\n",
    "cities = []\n",
    "\n",
    "# Create a set of random lat and lng combinations\n",
    "lats = np.random.uniform(lat_range[0], lat_range[1], size=1500)\n",
    "lngs = np.random.uniform(lng_range[0], lng_range[1], size=1500)\n",
    "lat_lngs = zip(lats, lngs)\n",
    "\n",
    "# Identify nearest city for each lat, lng combination\n",
    "for lat_lng in lat_lngs:\n",
    "    city = citipy.nearest_city(lat_lng[0], lat_lng[1]).city_name\n",
    "    \n",
    "    # If the city is unique, then add it to a our cities list\n",
    "    if city not in cities:\n",
    "        cities.append(city)\n",
    "\n",
    "# Print the city count to confirm sufficient count\n",
    "len(cities)"
   ]
  },
  {
   "cell_type": "markdown",
   "metadata": {},
   "source": [
    "### Perform API Calls\n",
    "* Perform a weather check on each city using a series of successive API calls.\n",
    "* Include a print log of each city as it'sbeing processed (with the city number and city name).\n"
   ]
  },
  {
   "cell_type": "code",
   "execution_count": 3,
   "metadata": {
    "scrolled": true
   },
   "outputs": [
    {
     "name": "stdout",
     "output_type": "stream",
     "text": [
      "Beginning Data Retrieval\n",
      "----------------------------\n",
      "Processing Record 0 | rikitea\n",
      "Processing Record 1 | jieshi\n",
      "Processing Record 2 | krasnogorskoye\n",
      "Processing Record 3 | touros\n",
      "Processing Record 4 | dikson\n",
      "Processing Record 5 | tautira\n",
      "Processing Record 6 | broome\n",
      "City not found. Skipping...\n",
      "Processing Record 7 | sfantu gheorghe\n",
      "Processing Record 8 | taylor\n",
      "Processing Record 9 | jamestown\n",
      "City not found. Skipping...\n",
      "Processing Record 10 | ust-nera\n",
      "Processing Record 11 | kabinda\n",
      "Processing Record 12 | albany\n",
      "Processing Record 13 | georgetown\n",
      "City not found. Skipping...\n",
      "Processing Record 14 | busselton\n",
      "Processing Record 15 | mar del plata\n",
      "Processing Record 16 | say\n",
      "Processing Record 17 | arlit\n",
      "Processing Record 18 | souillac\n",
      "Processing Record 19 | hovd\n",
      "Processing Record 20 | faya\n",
      "Processing Record 21 | saint george\n",
      "Processing Record 22 | kirakira\n",
      "Processing Record 23 | prince george\n",
      "Processing Record 24 | atuona\n",
      "Processing Record 25 | cape town\n",
      "Processing Record 26 | clyde river\n",
      "Processing Record 27 | gizo\n",
      "Processing Record 28 | fortuna\n",
      "Processing Record 29 | mataura\n",
      "Processing Record 30 | isangel\n",
      "Processing Record 31 | banjarmasin\n",
      "Processing Record 32 | namibe\n",
      "Processing Record 33 | kodiak\n",
      "Processing Record 34 | bredasdorp\n",
      "Processing Record 35 | saskylakh\n",
      "Processing Record 36 | ambilobe\n",
      "Processing Record 37 | sao jose do belmonte\n",
      "Processing Record 38 | basco\n",
      "Processing Record 39 | bensonville\n",
      "Processing Record 40 | buta\n",
      "Processing Record 41 | cabo san lucas\n",
      "Processing Record 42 | olafsvik\n",
      "Processing Record 43 | hermanus\n",
      "Processing Record 44 | saint-augustin\n",
      "Processing Record 45 | dingle\n",
      "Processing Record 46 | arraial do cabo\n",
      "Processing Record 47 | khatanga\n",
      "Processing Record 48 | lorengau\n",
      "Processing Record 49 | tiznit\n",
      "Processing Record 50 | mukhen\n",
      "Processing Record 51 | puerto ayora\n",
      "City not found. Skipping...\n",
      "Processing Record 52 | vaini\n",
      "Processing Record 53 | ushuaia\n",
      "Processing Record 54 | hilo\n",
      "Processing Record 55 | nikolskoye\n",
      "Processing Record 56 | xining\n",
      "City not found. Skipping...\n",
      "Processing Record 57 | kawalu\n",
      "Processing Record 58 | san isidro\n",
      "Processing Record 59 | hobart\n",
      "Processing Record 60 | chifeng\n",
      "Processing Record 61 | palmer\n",
      "Processing Record 62 | kapaa\n",
      "Processing Record 63 | yellowknife\n",
      "Processing Record 64 | jasper\n",
      "Processing Record 65 | fort abbas\n",
      "Processing Record 66 | upernavik\n",
      "Processing Record 67 | barrow\n",
      "Processing Record 68 | pevek\n",
      "City not found. Skipping...\n",
      "Processing Record 69 | thompson\n",
      "Processing Record 70 | kargasok\n",
      "Processing Record 71 | chokurdakh\n",
      "Processing Record 72 | ponta do sol\n",
      "Processing Record 73 | bluff\n",
      "Processing Record 74 | airai\n",
      "Processing Record 75 | naze\n",
      "Processing Record 76 | tiksi\n",
      "Processing Record 77 | pathein\n",
      "Processing Record 78 | vaitape\n",
      "Processing Record 79 | thunder bay\n",
      "City not found. Skipping...\n",
      "Processing Record 80 | kungurtug\n",
      "Processing Record 81 | miranda de ebro\n",
      "Processing Record 82 | ayacucho\n",
      "Processing Record 83 | hailar\n",
      "Processing Record 84 | thinadhoo\n",
      "Processing Record 85 | sola\n",
      "Processing Record 86 | claudio\n",
      "Processing Record 87 | shawville\n",
      "Processing Record 88 | pemangkat\n",
      "Processing Record 89 | aklavik\n",
      "Processing Record 90 | ternate\n",
      "Processing Record 91 | san jeronimo\n",
      "Processing Record 92 | hasaki\n",
      "Processing Record 93 | havre-saint-pierre\n",
      "Processing Record 94 | sibu\n",
      "Processing Record 95 | nemuro\n",
      "Processing Record 96 | mareeba\n",
      "Processing Record 97 | merauke\n",
      "Processing Record 98 | ostrovnoy\n",
      "Processing Record 99 | saint-philippe\n",
      "Processing Record 100 | kiruna\n",
      "Processing Record 101 | umm kaddadah\n",
      "Processing Record 102 | abaza\n",
      "Processing Record 103 | chuy\n",
      "Processing Record 104 | constitucion\n",
      "Processing Record 105 | rafai\n",
      "City not found. Skipping...\n",
      "City not found. Skipping...\n",
      "Processing Record 106 | noshiro\n",
      "City not found. Skipping...\n",
      "Processing Record 107 | butaritari\n",
      "Processing Record 108 | san patricio\n",
      "Processing Record 109 | quatre cocos\n",
      "Processing Record 110 | victoria\n",
      "Processing Record 111 | qandala\n",
      "Processing Record 112 | ilulissat\n",
      "Processing Record 113 | lluta\n",
      "Processing Record 114 | myrhorod\n",
      "Processing Record 115 | henties bay\n",
      "Processing Record 116 | tasiilaq\n",
      "Processing Record 117 | narsaq\n",
      "Processing Record 118 | inhambane\n",
      "Processing Record 119 | malmesbury\n",
      "City not found. Skipping...\n",
      "Processing Record 120 | sao jose de ribamar\n",
      "Processing Record 121 | castro\n",
      "Processing Record 122 | bilma\n",
      "Processing Record 123 | tuktoyaktuk\n",
      "Processing Record 124 | punta arenas\n",
      "Processing Record 125 | jacqueville\n",
      "City not found. Skipping...\n",
      "Processing Record 126 | lagoa\n",
      "City not found. Skipping...\n",
      "Processing Record 127 | tadine\n",
      "Processing Record 128 | adra\n",
      "Processing Record 129 | derzhavinsk\n",
      "Processing Record 130 | sinnamary\n",
      "Processing Record 131 | humberto de campos\n",
      "Processing Record 132 | zaysan\n",
      "Processing Record 133 | qaanaaq\n",
      "Processing Record 134 | bethel\n",
      "Processing Record 135 | camopi\n",
      "City not found. Skipping...\n",
      "Processing Record 136 | maningrida\n",
      "Processing Record 137 | santa cruz del sur\n",
      "Processing Record 138 | straumen\n",
      "Processing Record 139 | kencong\n",
      "Processing Record 140 | sao filipe\n",
      "Processing Record 141 | san pedro\n",
      "Processing Record 142 | codrington\n",
      "Processing Record 143 | ixtapa\n",
      "Processing Record 144 | kaitangata\n",
      "Processing Record 145 | sitka\n",
      "Processing Record 146 | kyrylivka\n",
      "Processing Record 147 | pisco\n",
      "Processing Record 148 | karpogory\n",
      "Processing Record 149 | kahului\n",
      "Processing Record 150 | huarmey\n",
      "City not found. Skipping...\n",
      "Processing Record 151 | byron bay\n",
      "Processing Record 152 | el sauzal\n",
      "City not found. Skipping...\n",
      "Processing Record 153 | eureka\n",
      "Processing Record 154 | grand gaube\n",
      "Processing Record 155 | tura\n",
      "Processing Record 156 | pangnirtung\n",
      "Processing Record 157 | suntar\n",
      "Processing Record 158 | leningradskiy\n",
      "Processing Record 159 | dicabisagan\n",
      "Processing Record 160 | hithadhoo\n",
      "Processing Record 161 | muros\n",
      "Processing Record 162 | barinas\n",
      "Processing Record 163 | durres\n",
      "Processing Record 164 | labuhan\n",
      "Processing Record 165 | geraldton\n",
      "City not found. Skipping...\n",
      "City not found. Skipping...\n",
      "Processing Record 166 | mahibadhoo\n",
      "Processing Record 167 | pringsewu\n",
      "Processing Record 168 | piney green\n",
      "Processing Record 169 | aketi\n",
      "Processing Record 170 | semporna\n",
      "Processing Record 171 | port hedland\n",
      "Processing Record 172 | wewak\n",
      "Processing Record 173 | nikolayevsk-na-amure\n",
      "Processing Record 174 | damavand\n",
      "Processing Record 175 | la ronge\n",
      "Processing Record 176 | bareli\n",
      "Processing Record 177 | erzin\n",
      "Processing Record 178 | vanavara\n",
      "Processing Record 179 | sault sainte marie\n",
      "Processing Record 180 | saint-pierre\n",
      "Processing Record 181 | calamar\n",
      "Processing Record 182 | port alfred\n",
      "Processing Record 183 | karratha\n",
      "Processing Record 184 | kuytun\n",
      "Processing Record 185 | mahebourg\n",
      "Processing Record 186 | westport\n",
      "Processing Record 187 | port shepstone\n",
      "Processing Record 188 | ndele\n",
      "Processing Record 189 | gornopravdinsk\n",
      "Processing Record 190 | bournemouth\n",
      "Processing Record 191 | belmonte\n",
      "Processing Record 192 | san andres\n",
      "Processing Record 193 | portland\n",
      "Processing Record 194 | atar\n",
      "Processing Record 195 | san cristobal\n",
      "Processing Record 196 | richards bay\n",
      "Processing Record 197 | longyearbyen\n",
      "Processing Record 198 | santa maria\n",
      "Processing Record 199 | hai duong\n",
      "Processing Record 200 | mizdah\n",
      "Processing Record 201 | matara\n",
      "Processing Record 202 | turbat\n",
      "Processing Record 203 | carnarvon\n",
      "City not found. Skipping...\n",
      "Processing Record 204 | poso\n",
      "Processing Record 205 | avarua\n",
      "Processing Record 206 | padang\n",
      "Processing Record 207 | los llanos de aridane\n",
      "Processing Record 208 | port blair\n",
      "Processing Record 209 | hamilton\n",
      "Processing Record 210 | guerrero negro\n",
      "Processing Record 211 | wanning\n",
      "Processing Record 212 | zhigansk\n",
      "Processing Record 213 | gazanjyk\n",
      "Processing Record 214 | bend\n",
      "Processing Record 215 | ammon\n",
      "Processing Record 216 | fort frances\n",
      "Processing Record 217 | sao miguel do araguaia\n",
      "Processing Record 218 | makakilo city\n",
      "Processing Record 219 | jaisalmer\n",
      "Processing Record 220 | waipawa\n",
      "Processing Record 221 | romitan\n",
      "Processing Record 222 | tromso\n",
      "Processing Record 223 | ancud\n",
      "Processing Record 224 | udachnyy\n",
      "Processing Record 225 | daru\n",
      "Processing Record 226 | nanortalik\n",
      "Processing Record 227 | nome\n",
      "Processing Record 228 | mae hong son\n",
      "City not found. Skipping...\n",
      "Processing Record 229 | tias\n"
     ]
    },
    {
     "name": "stdout",
     "output_type": "stream",
     "text": [
      "Processing Record 230 | aykhal\n",
      "City not found. Skipping...\n",
      "Processing Record 231 | provideniya\n",
      "Processing Record 232 | oistins\n",
      "Processing Record 233 | san policarpo\n",
      "City not found. Skipping...\n",
      "Processing Record 234 | talnakh\n",
      "Processing Record 235 | serov\n",
      "Processing Record 236 | ojinaga\n",
      "Processing Record 237 | goderich\n",
      "Processing Record 238 | tamandare\n",
      "Processing Record 239 | krasnoselkup\n",
      "Processing Record 240 | tilichiki\n",
      "Processing Record 241 | tumpat\n",
      "Processing Record 242 | lazaro cardenas\n",
      "Processing Record 243 | half moon bay\n",
      "Processing Record 244 | bengkulu\n",
      "Processing Record 245 | martinsicuro\n",
      "Processing Record 246 | borger\n",
      "Processing Record 247 | sangareddi\n",
      "Processing Record 248 | kiunga\n",
      "Processing Record 249 | tecoanapa\n",
      "Processing Record 250 | seymchan\n",
      "Processing Record 251 | jalna\n",
      "Processing Record 252 | chimbote\n",
      "Processing Record 253 | mayo\n",
      "Processing Record 254 | saldanha\n",
      "Processing Record 255 | collie\n",
      "City not found. Skipping...\n",
      "Processing Record 256 | porbandar\n",
      "Processing Record 257 | alofi\n",
      "Processing Record 258 | bonavista\n",
      "Processing Record 259 | lompoc\n",
      "Processing Record 260 | broken hill\n",
      "Processing Record 261 | floro\n",
      "Processing Record 262 | ust-maya\n",
      "Processing Record 263 | balikpapan\n",
      "Processing Record 264 | aswan\n",
      "Processing Record 265 | morondava\n",
      "Processing Record 266 | antalaha\n",
      "Processing Record 267 | alta floresta\n",
      "Processing Record 268 | jega\n",
      "Processing Record 269 | chumikan\n",
      "City not found. Skipping...\n",
      "Processing Record 270 | bafoulabe\n",
      "Processing Record 271 | usinsk\n",
      "Processing Record 272 | kulhudhuffushi\n",
      "Processing Record 273 | abu samrah\n",
      "Processing Record 274 | igrim\n",
      "Processing Record 275 | nizhnevartovsk\n",
      "Processing Record 276 | rorvik\n",
      "Processing Record 277 | andilamena\n",
      "Processing Record 278 | caravelas\n",
      "Processing Record 279 | kabanjahe\n",
      "Processing Record 280 | sabang\n",
      "Processing Record 281 | novikovo\n",
      "City not found. Skipping...\n",
      "Processing Record 282 | yulara\n",
      "Processing Record 283 | faanui\n",
      "Processing Record 284 | vestmannaeyjar\n",
      "Processing Record 285 | teahupoo\n",
      "Processing Record 286 | shenjiamen\n",
      "Processing Record 287 | acapulco\n",
      "Processing Record 288 | peace river\n",
      "Processing Record 289 | ambon\n",
      "Processing Record 290 | puerto colombia\n",
      "Processing Record 291 | jardim\n",
      "Processing Record 292 | nishihara\n",
      "Processing Record 293 | egvekinot\n",
      "Processing Record 294 | ouesso\n",
      "Processing Record 295 | shimoda\n",
      "Processing Record 296 | kavieng\n",
      "Processing Record 297 | iqaluit\n",
      "Processing Record 298 | te anau\n",
      "Processing Record 299 | esperance\n",
      "City not found. Skipping...\n",
      "Processing Record 300 | new norfolk\n",
      "Processing Record 301 | puerto penasco\n",
      "Processing Record 302 | chapais\n",
      "Processing Record 303 | ribeira grande\n",
      "Processing Record 304 | cabra\n",
      "Processing Record 305 | mattawa\n",
      "Processing Record 306 | svetlogorsk\n",
      "Processing Record 307 | harda\n",
      "Processing Record 308 | flin flon\n",
      "Processing Record 309 | dryden\n",
      "Processing Record 310 | lebu\n",
      "Processing Record 311 | chapada dos guimaraes\n",
      "Processing Record 312 | elyria\n",
      "Processing Record 313 | amahai\n",
      "Processing Record 314 | bandarbeyla\n",
      "Processing Record 315 | rio gallegos\n",
      "Processing Record 316 | progreso\n",
      "Processing Record 317 | yerbogachen\n",
      "Processing Record 318 | fairbanks\n",
      "City not found. Skipping...\n",
      "Processing Record 319 | oranjestad\n",
      "Processing Record 320 | manta\n",
      "Processing Record 321 | wajir\n",
      "City not found. Skipping...\n",
      "Processing Record 322 | gold coast\n",
      "Processing Record 323 | bilibino\n",
      "Processing Record 324 | dunedin\n",
      "Processing Record 325 | cangucu\n",
      "Processing Record 326 | pestisani\n",
      "Processing Record 327 | luau\n",
      "Processing Record 328 | belaya gora\n",
      "Processing Record 329 | port elizabeth\n",
      "Processing Record 330 | beroroha\n",
      "Processing Record 331 | kamyshin\n",
      "Processing Record 332 | tabou\n",
      "Processing Record 333 | vardo\n",
      "Processing Record 334 | itarema\n",
      "Processing Record 335 | teknaf\n",
      "Processing Record 336 | kruisfontein\n",
      "City not found. Skipping...\n",
      "Processing Record 337 | tabuk\n",
      "Processing Record 338 | rocky mountain house\n",
      "Processing Record 339 | celestun\n",
      "Processing Record 340 | torbay\n",
      "Processing Record 341 | sivas\n",
      "Processing Record 342 | naryan-mar\n",
      "Processing Record 343 | ghanzi\n",
      "Processing Record 344 | amuntai\n",
      "Processing Record 345 | san vicente\n",
      "Processing Record 346 | bubaque\n",
      "Processing Record 347 | ibra\n",
      "Processing Record 348 | prado\n",
      "Processing Record 349 | cidreira\n",
      "Processing Record 350 | harlingen\n",
      "Processing Record 351 | bukachacha\n",
      "Processing Record 352 | gusau\n",
      "Processing Record 353 | sur\n",
      "Processing Record 354 | tigil\n",
      "Processing Record 355 | laguna\n",
      "Processing Record 356 | kenora\n",
      "Processing Record 357 | east london\n",
      "Processing Record 358 | khromtau\n",
      "Processing Record 359 | mantua\n",
      "Processing Record 360 | banjar\n",
      "Processing Record 361 | abeche\n",
      "Processing Record 362 | kashi\n",
      "Processing Record 363 | fomboni\n",
      "Processing Record 364 | ambovombe\n",
      "Processing Record 365 | khvorostyanka\n",
      "Processing Record 366 | salalah\n",
      "Processing Record 367 | lucapa\n",
      "Processing Record 368 | port augusta\n",
      "Processing Record 369 | graaff-reinet\n",
      "Processing Record 370 | karasburg\n",
      "Processing Record 371 | gamba\n",
      "Processing Record 372 | ola\n",
      "Processing Record 373 | rena\n",
      "Processing Record 374 | poum\n",
      "Processing Record 375 | areosa\n",
      "Processing Record 376 | coquimbo\n",
      "Processing Record 377 | nalchik\n",
      "Processing Record 378 | huron\n",
      "Processing Record 379 | nanga eboko\n",
      "Processing Record 380 | nalut\n",
      "Processing Record 381 | sesheke\n",
      "Processing Record 382 | abu dhabi\n",
      "Processing Record 383 | madaoua\n",
      "Processing Record 384 | karpathos\n",
      "Processing Record 385 | tessalit\n",
      "Processing Record 386 | fairview\n",
      "City not found. Skipping...\n",
      "Processing Record 387 | muisne\n",
      "Processing Record 388 | luwuk\n",
      "Processing Record 389 | port macquarie\n",
      "Processing Record 390 | olga\n",
      "Processing Record 391 | port lincoln\n",
      "Processing Record 392 | norman wells\n",
      "Processing Record 393 | samarai\n",
      "City not found. Skipping...\n",
      "Processing Record 394 | el alto\n",
      "Processing Record 395 | zhanakorgan\n",
      "Processing Record 396 | kenai\n",
      "Processing Record 397 | tevaitoa\n",
      "Processing Record 398 | sosnogorsk\n",
      "Processing Record 399 | vila velha\n",
      "City not found. Skipping...\n",
      "Processing Record 400 | hualmay\n",
      "Processing Record 401 | omboue\n",
      "Processing Record 402 | beloha\n",
      "Processing Record 403 | marsh harbour\n",
      "Processing Record 404 | grasse\n",
      "Processing Record 405 | albacete\n",
      "Processing Record 406 | lasa\n",
      "Processing Record 407 | northam\n",
      "Processing Record 408 | batagay-alyta\n",
      "Processing Record 409 | kathu\n",
      "Processing Record 410 | banda aceh\n",
      "Processing Record 411 | ahipara\n",
      "Processing Record 412 | beringovskiy\n",
      "Processing Record 413 | boden\n",
      "Processing Record 414 | cuiluan\n",
      "Processing Record 415 | todos santos\n",
      "Processing Record 416 | casian\n",
      "Processing Record 417 | altoona\n",
      "Processing Record 418 | kargat\n",
      "Processing Record 419 | cayenne\n",
      "Processing Record 420 | cacu\n",
      "Processing Record 421 | tocopilla\n",
      "Processing Record 422 | dawson creek\n",
      "Processing Record 423 | magdalena\n",
      "Processing Record 424 | mitsamiouli\n",
      "Processing Record 425 | mehamn\n",
      "Processing Record 426 | majene\n",
      "City not found. Skipping...\n",
      "City not found. Skipping...\n",
      "Processing Record 427 | ca mau\n",
      "Processing Record 428 | baykit\n",
      "Processing Record 429 | gat\n",
      "Processing Record 430 | murgab\n",
      "Processing Record 431 | bara\n",
      "City not found. Skipping...\n",
      "Processing Record 432 | kirovsk\n",
      "Processing Record 433 | balkhash\n",
      "Processing Record 434 | zaraza\n",
      "Processing Record 435 | berdigestyakh\n",
      "Processing Record 436 | mutis\n",
      "Processing Record 437 | lavrentiya\n",
      "Processing Record 438 | klaksvik\n",
      "Processing Record 439 | irece\n",
      "Processing Record 440 | lososina\n",
      "Processing Record 441 | jacareacanga\n",
      "City not found. Skipping...\n",
      "Processing Record 442 | severo-kurilsk\n",
      "Processing Record 443 | catia la mar\n",
      "Processing Record 444 | champerico\n",
      "Processing Record 445 | hervey bay\n",
      "Processing Record 446 | potosi\n",
      "Processing Record 447 | cherskiy\n",
      "City not found. Skipping...\n",
      "Processing Record 448 | comodoro rivadavia\n",
      "Processing Record 449 | biak\n",
      "Processing Record 450 | amapa\n",
      "Processing Record 451 | benicarlo\n",
      "Processing Record 452 | real\n",
      "Processing Record 453 | buala\n",
      "Processing Record 454 | puerto suarez\n",
      "Processing Record 455 | meiganga\n",
      "Processing Record 456 | tamala\n",
      "Processing Record 457 | stokmarknes\n",
      "Processing Record 458 | bambous virieux\n",
      "Processing Record 459 | kathmandu\n",
      "Processing Record 460 | bugene\n",
      "Processing Record 461 | salisbury\n",
      "Processing Record 462 | kabompo\n",
      "City not found. Skipping...\n"
     ]
    },
    {
     "name": "stdout",
     "output_type": "stream",
     "text": [
      "Processing Record 463 | sabha\n",
      "City not found. Skipping...\n",
      "Processing Record 464 | fort nelson\n",
      "Processing Record 465 | anadyr\n",
      "Processing Record 466 | crotone\n",
      "City not found. Skipping...\n",
      "Processing Record 467 | valparaiso\n",
      "Processing Record 468 | margate\n",
      "Processing Record 469 | kasongo\n",
      "Processing Record 470 | aquiraz\n",
      "Processing Record 471 | lufilufi\n",
      "Processing Record 472 | bitkine\n",
      "Processing Record 473 | bulgan\n",
      "Processing Record 474 | touba\n",
      "Processing Record 475 | lapua\n",
      "Processing Record 476 | aden\n",
      "City not found. Skipping...\n",
      "City not found. Skipping...\n",
      "City not found. Skipping...\n",
      "Processing Record 477 | nabire\n",
      "Processing Record 478 | nerl\n",
      "City not found. Skipping...\n",
      "Processing Record 479 | waingapu\n",
      "Processing Record 480 | svetlaya\n",
      "Processing Record 481 | buraydah\n",
      "Processing Record 482 | iwanai\n",
      "Processing Record 483 | bambanglipuro\n",
      "Processing Record 484 | coffs harbour\n",
      "Processing Record 485 | ust-tsilma\n",
      "Processing Record 486 | baijiantan\n",
      "Processing Record 487 | bereda\n",
      "Processing Record 488 | hambantota\n",
      "Processing Record 489 | szubin\n",
      "Processing Record 490 | husum\n",
      "City not found. Skipping...\n",
      "Processing Record 491 | damaturu\n",
      "Processing Record 492 | along\n",
      "Processing Record 493 | tuatapere\n",
      "Processing Record 494 | nienburg\n",
      "Processing Record 495 | katherine\n",
      "Processing Record 496 | ushirombo\n",
      "City not found. Skipping...\n",
      "Processing Record 497 | nyurba\n",
      "Processing Record 498 | baglan\n",
      "Processing Record 499 | ranong\n",
      "Processing Record 500 | sal rei\n",
      "Processing Record 501 | kolondieba\n",
      "Processing Record 502 | ulaangom\n",
      "City not found. Skipping...\n",
      "Processing Record 503 | sioux lookout\n",
      "Processing Record 504 | franklin park\n",
      "Processing Record 505 | kavaratti\n",
      "City not found. Skipping...\n",
      "Processing Record 506 | canmore\n",
      "City not found. Skipping...\n",
      "Processing Record 507 | sambava\n",
      "Processing Record 508 | cotonou\n",
      "Processing Record 509 | aberdeen\n",
      "Processing Record 510 | haines junction\n",
      "Processing Record 511 | caraz\n",
      "Processing Record 512 | bathurst\n",
      "Processing Record 513 | kirkland lake\n",
      "Processing Record 514 | harper\n",
      "City not found. Skipping...\n",
      "Processing Record 515 | gannan\n",
      "Processing Record 516 | vao\n",
      "Processing Record 517 | sungaipenuh\n",
      "Processing Record 518 | chabahar\n",
      "Processing Record 519 | pueblo\n",
      "Processing Record 520 | oberstdorf\n",
      "Processing Record 521 | luderitz\n",
      "Processing Record 522 | beaver falls\n",
      "Processing Record 523 | husavik\n",
      "City not found. Skipping...\n",
      "Processing Record 524 | katsuura\n",
      "Processing Record 525 | hobyo\n",
      "Processing Record 526 | aljezur\n",
      "Processing Record 527 | schoningen\n",
      "City not found. Skipping...\n",
      "Processing Record 528 | bayevo\n",
      "Processing Record 529 | carutapera\n",
      "Processing Record 530 | gladstone\n",
      "Processing Record 531 | pacific grove\n",
      "Processing Record 532 | oyama\n",
      "Processing Record 533 | baiyin\n",
      "Processing Record 534 | la romana\n",
      "Processing Record 535 | luganville\n",
      "Processing Record 536 | kon tum\n",
      "Processing Record 537 | kommunar\n",
      "Processing Record 538 | krutinka\n",
      "Processing Record 539 | santa lucia\n",
      "Processing Record 540 | pudozh\n",
      "Processing Record 541 | morgan city\n",
      "Processing Record 542 | eyl\n",
      "Processing Record 543 | hanting\n",
      "Processing Record 544 | qaqortoq\n",
      "Processing Record 545 | college\n",
      "Processing Record 546 | kainantu\n",
      "Processing Record 547 | fukue\n",
      "Processing Record 548 | araouane\n",
      "Processing Record 549 | boyolangu\n",
      "Processing Record 550 | gunnedah\n",
      "Processing Record 551 | agadir\n",
      "Processing Record 552 | whitehorse\n",
      "Processing Record 553 | kajaani\n",
      "Processing Record 554 | poronaysk\n",
      "Processing Record 555 | dudinka\n",
      "Processing Record 556 | elesbao veloso\n",
      "Processing Record 557 | kupang\n",
      "Processing Record 558 | kuzino\n",
      "Processing Record 559 | magadan\n",
      "Processing Record 560 | nioro\n",
      "Processing Record 561 | khorixas\n",
      "Processing Record 562 | xuddur\n",
      "Processing Record 563 | novoselytsya\n",
      "Processing Record 564 | maroantsetra\n",
      "Processing Record 565 | san jose\n",
      "Processing Record 566 | riyadh\n",
      "Processing Record 567 | nadym\n",
      "Processing Record 568 | freeport\n",
      "Processing Record 569 | angoram\n",
      "Processing Record 570 | maxixe\n",
      "City not found. Skipping...\n",
      "Processing Record 571 | sangar\n",
      "Processing Record 572 | dahod\n",
      "Processing Record 573 | contamana\n",
      "Processing Record 574 | campoverde\n",
      "Processing Record 575 | parabel\n",
      "Processing Record 576 | shache\n",
      "Processing Record 577 | sainte-rose\n",
      "Processing Record 578 | maniitsoq\n",
      "Processing Record 579 | coos bay\n",
      "Processing Record 580 | asau\n",
      "Processing Record 581 | kichmengskiy gorodok\n",
      "Processing Record 582 | petropavlovsk-kamchatskiy\n",
      "Processing Record 583 | mount gambier\n",
      "Processing Record 584 | the valley\n",
      "Processing Record 585 | rawlins\n",
      "Processing Record 586 | kloulklubed\n",
      "City not found. Skipping...\n",
      "Processing Record 587 | vysokogornyy\n",
      "Processing Record 588 | mogadishu\n",
      "Processing Record 589 | lardos\n",
      "-----------------------------\n",
      "Data Retrieval Complete\n",
      "-----------------------------\n"
     ]
    }
   ],
   "source": [
    "url = \"http://api.openweathermap.org/data/2.5/weather?\"\n",
    "units = \"imperial\"\n",
    "query_url = f\"{url}appid={weather_api_key}&units={units}&q=\"\n",
    "\n",
    "\n",
    "lat = []\n",
    "lng = []\n",
    "temp = []\n",
    "cloudiness = []\n",
    "country = []\n",
    "date = []\n",
    "Humidity = []\n",
    "temp_max = []\n",
    "wind_speed = []\n",
    "city_name = []\n",
    "city_num = 0\n",
    "\n",
    "print(\"Beginning Data Retrieval\")\n",
    "print(\"----------------------------\")\n",
    "\n",
    "for city in cities:\n",
    "\n",
    "    response = requests.get(query_url + city).json()\n",
    "\n",
    "    try:\n",
    "\n",
    "        lat.append(response['coord']['lat'])\n",
    "        lng.append(response['coord']['lon'])\n",
    "        temp.append(response['main']['temp'])\n",
    "        temp_max.append(response['main']['temp_max'])\n",
    "        cloudiness.append(response['clouds']['all'])\n",
    "        country.append(response['sys']['country'])\n",
    "        date.append(response['dt'])\n",
    "        Humidity.append(response['main']['humidity'])\n",
    "        wind_speed.append(response['wind']['speed'])\n",
    "        city_name.append(response['name'])\n",
    "    \n",
    "        print(f\"Processing Record {city_num} | {city}\")\n",
    "\n",
    "        city_num += 1\n",
    "        \n",
    "    except:\n",
    "        print(\"City not found. Skipping...\")\n",
    "        \n",
    "print(\"-----------------------------\")\n",
    "print(\"Data Retrieval Complete\")\n",
    "print(\"-----------------------------\")"
   ]
  },
  {
   "cell_type": "markdown",
   "metadata": {},
   "source": [
    "### Convert Raw Data to DataFrame\n",
    "* Export the city data into a .csv.\n",
    "* Display the DataFrame"
   ]
  },
  {
   "cell_type": "code",
   "execution_count": 4,
   "metadata": {},
   "outputs": [
    {
     "data": {
      "text/html": [
       "<div>\n",
       "<style scoped>\n",
       "    .dataframe tbody tr th:only-of-type {\n",
       "        vertical-align: middle;\n",
       "    }\n",
       "\n",
       "    .dataframe tbody tr th {\n",
       "        vertical-align: top;\n",
       "    }\n",
       "\n",
       "    .dataframe thead th {\n",
       "        text-align: right;\n",
       "    }\n",
       "</style>\n",
       "<table border=\"1\" class=\"dataframe\">\n",
       "  <thead>\n",
       "    <tr style=\"text-align: right;\">\n",
       "      <th></th>\n",
       "      <th>City</th>\n",
       "      <th>Lat</th>\n",
       "      <th>Lng</th>\n",
       "      <th>Max Temp</th>\n",
       "      <th>Humidity</th>\n",
       "      <th>Cloudiness</th>\n",
       "      <th>Wind Speed</th>\n",
       "      <th>Country</th>\n",
       "      <th>Date</th>\n",
       "    </tr>\n",
       "  </thead>\n",
       "  <tbody>\n",
       "    <tr>\n",
       "      <th>0</th>\n",
       "      <td>Rikitea</td>\n",
       "      <td>-23.1203</td>\n",
       "      <td>-134.9692</td>\n",
       "      <td>77.58</td>\n",
       "      <td>74</td>\n",
       "      <td>74</td>\n",
       "      <td>8.68</td>\n",
       "      <td>PF</td>\n",
       "      <td>1619472743</td>\n",
       "    </tr>\n",
       "    <tr>\n",
       "      <th>1</th>\n",
       "      <td>Jieshi</td>\n",
       "      <td>22.8134</td>\n",
       "      <td>115.8257</td>\n",
       "      <td>71.01</td>\n",
       "      <td>85</td>\n",
       "      <td>100</td>\n",
       "      <td>13.71</td>\n",
       "      <td>CN</td>\n",
       "      <td>1619473320</td>\n",
       "    </tr>\n",
       "    <tr>\n",
       "      <th>2</th>\n",
       "      <td>Krasnogorskoye</td>\n",
       "      <td>52.2953</td>\n",
       "      <td>86.1979</td>\n",
       "      <td>37.11</td>\n",
       "      <td>84</td>\n",
       "      <td>100</td>\n",
       "      <td>1.52</td>\n",
       "      <td>RU</td>\n",
       "      <td>1619473320</td>\n",
       "    </tr>\n",
       "    <tr>\n",
       "      <th>3</th>\n",
       "      <td>Touros</td>\n",
       "      <td>-5.1989</td>\n",
       "      <td>-35.4608</td>\n",
       "      <td>80.60</td>\n",
       "      <td>78</td>\n",
       "      <td>20</td>\n",
       "      <td>9.22</td>\n",
       "      <td>BR</td>\n",
       "      <td>1619472877</td>\n",
       "    </tr>\n",
       "    <tr>\n",
       "      <th>4</th>\n",
       "      <td>Dikson</td>\n",
       "      <td>73.5069</td>\n",
       "      <td>80.5464</td>\n",
       "      <td>31.78</td>\n",
       "      <td>98</td>\n",
       "      <td>100</td>\n",
       "      <td>17.69</td>\n",
       "      <td>RU</td>\n",
       "      <td>1619472838</td>\n",
       "    </tr>\n",
       "    <tr>\n",
       "      <th>...</th>\n",
       "      <td>...</td>\n",
       "      <td>...</td>\n",
       "      <td>...</td>\n",
       "      <td>...</td>\n",
       "      <td>...</td>\n",
       "      <td>...</td>\n",
       "      <td>...</td>\n",
       "      <td>...</td>\n",
       "      <td>...</td>\n",
       "    </tr>\n",
       "    <tr>\n",
       "      <th>585</th>\n",
       "      <td>Rawlins</td>\n",
       "      <td>41.7911</td>\n",
       "      <td>-107.2387</td>\n",
       "      <td>62.60</td>\n",
       "      <td>8</td>\n",
       "      <td>1</td>\n",
       "      <td>33.38</td>\n",
       "      <td>US</td>\n",
       "      <td>1619473488</td>\n",
       "    </tr>\n",
       "    <tr>\n",
       "      <th>586</th>\n",
       "      <td>Kloulklubed</td>\n",
       "      <td>7.0419</td>\n",
       "      <td>134.2556</td>\n",
       "      <td>80.98</td>\n",
       "      <td>79</td>\n",
       "      <td>97</td>\n",
       "      <td>6.85</td>\n",
       "      <td>PW</td>\n",
       "      <td>1619473489</td>\n",
       "    </tr>\n",
       "    <tr>\n",
       "      <th>587</th>\n",
       "      <td>Vysokogornyy</td>\n",
       "      <td>50.1167</td>\n",
       "      <td>139.1500</td>\n",
       "      <td>37.42</td>\n",
       "      <td>74</td>\n",
       "      <td>35</td>\n",
       "      <td>2.28</td>\n",
       "      <td>RU</td>\n",
       "      <td>1619473489</td>\n",
       "    </tr>\n",
       "    <tr>\n",
       "      <th>588</th>\n",
       "      <td>Mogadishu</td>\n",
       "      <td>2.0371</td>\n",
       "      <td>45.3438</td>\n",
       "      <td>82.99</td>\n",
       "      <td>75</td>\n",
       "      <td>81</td>\n",
       "      <td>7.65</td>\n",
       "      <td>SO</td>\n",
       "      <td>1619473490</td>\n",
       "    </tr>\n",
       "    <tr>\n",
       "      <th>589</th>\n",
       "      <td>Lárdos</td>\n",
       "      <td>36.0942</td>\n",
       "      <td>28.0157</td>\n",
       "      <td>62.60</td>\n",
       "      <td>67</td>\n",
       "      <td>0</td>\n",
       "      <td>3.44</td>\n",
       "      <td>GR</td>\n",
       "      <td>1619473490</td>\n",
       "    </tr>\n",
       "  </tbody>\n",
       "</table>\n",
       "<p>590 rows × 9 columns</p>\n",
       "</div>"
      ],
      "text/plain": [
       "               City      Lat       Lng  Max Temp  Humidity  Cloudiness  \\\n",
       "0           Rikitea -23.1203 -134.9692     77.58        74          74   \n",
       "1            Jieshi  22.8134  115.8257     71.01        85         100   \n",
       "2    Krasnogorskoye  52.2953   86.1979     37.11        84         100   \n",
       "3            Touros  -5.1989  -35.4608     80.60        78          20   \n",
       "4            Dikson  73.5069   80.5464     31.78        98         100   \n",
       "..              ...      ...       ...       ...       ...         ...   \n",
       "585         Rawlins  41.7911 -107.2387     62.60         8           1   \n",
       "586     Kloulklubed   7.0419  134.2556     80.98        79          97   \n",
       "587    Vysokogornyy  50.1167  139.1500     37.42        74          35   \n",
       "588       Mogadishu   2.0371   45.3438     82.99        75          81   \n",
       "589          Lárdos  36.0942   28.0157     62.60        67           0   \n",
       "\n",
       "     Wind Speed Country        Date  \n",
       "0          8.68      PF  1619472743  \n",
       "1         13.71      CN  1619473320  \n",
       "2          1.52      RU  1619473320  \n",
       "3          9.22      BR  1619472877  \n",
       "4         17.69      RU  1619472838  \n",
       "..          ...     ...         ...  \n",
       "585       33.38      US  1619473488  \n",
       "586        6.85      PW  1619473489  \n",
       "587        2.28      RU  1619473489  \n",
       "588        7.65      SO  1619473490  \n",
       "589        3.44      GR  1619473490  \n",
       "\n",
       "[590 rows x 9 columns]"
      ]
     },
     "execution_count": 4,
     "metadata": {},
     "output_type": "execute_result"
    }
   ],
   "source": [
    "weather_data = pd.DataFrame({\n",
    "    'City':city_name,\n",
    "    'Lat':lat,\n",
    "    'Lng':lng,\n",
    "    'Max Temp':temp_max,\n",
    "    'Humidity':Humidity,\n",
    "    'Cloudiness':cloudiness,\n",
    "    'Wind Speed':wind_speed,\n",
    "    'Country':country,\n",
    "    'Date':date\n",
    "})\n",
    "weather_data"
   ]
  },
  {
   "cell_type": "code",
   "execution_count": 5,
   "metadata": {},
   "outputs": [
    {
     "data": {
      "text/plain": [
       "City          590\n",
       "Lat           590\n",
       "Lng           590\n",
       "Max Temp      590\n",
       "Humidity      590\n",
       "Cloudiness    590\n",
       "Wind Speed    590\n",
       "Country       590\n",
       "Date          590\n",
       "dtype: int64"
      ]
     },
     "execution_count": 5,
     "metadata": {},
     "output_type": "execute_result"
    }
   ],
   "source": [
    "weather_data.count()"
   ]
  },
  {
   "cell_type": "code",
   "execution_count": 6,
   "metadata": {},
   "outputs": [],
   "source": [
    "weather_data.to_csv(\"../output_data/cities.csv\", header=True)"
   ]
  },
  {
   "cell_type": "code",
   "execution_count": 7,
   "metadata": {},
   "outputs": [
    {
     "data": {
      "text/html": [
       "<div>\n",
       "<style scoped>\n",
       "    .dataframe tbody tr th:only-of-type {\n",
       "        vertical-align: middle;\n",
       "    }\n",
       "\n",
       "    .dataframe tbody tr th {\n",
       "        vertical-align: top;\n",
       "    }\n",
       "\n",
       "    .dataframe thead th {\n",
       "        text-align: right;\n",
       "    }\n",
       "</style>\n",
       "<table border=\"1\" class=\"dataframe\">\n",
       "  <thead>\n",
       "    <tr style=\"text-align: right;\">\n",
       "      <th></th>\n",
       "      <th>Lat</th>\n",
       "      <th>Lng</th>\n",
       "      <th>Max Temp</th>\n",
       "      <th>Humidity</th>\n",
       "      <th>Cloudiness</th>\n",
       "      <th>Wind Speed</th>\n",
       "      <th>Date</th>\n",
       "    </tr>\n",
       "  </thead>\n",
       "  <tbody>\n",
       "    <tr>\n",
       "      <th>count</th>\n",
       "      <td>590.00000</td>\n",
       "      <td>590.000000</td>\n",
       "      <td>590.000000</td>\n",
       "      <td>590.000000</td>\n",
       "      <td>590.000000</td>\n",
       "      <td>590.000000</td>\n",
       "      <td>5.900000e+02</td>\n",
       "    </tr>\n",
       "    <tr>\n",
       "      <th>mean</th>\n",
       "      <td>19.97864</td>\n",
       "      <td>21.948611</td>\n",
       "      <td>60.786644</td>\n",
       "      <td>69.515254</td>\n",
       "      <td>55.491525</td>\n",
       "      <td>7.509119</td>\n",
       "      <td>1.619473e+09</td>\n",
       "    </tr>\n",
       "    <tr>\n",
       "      <th>std</th>\n",
       "      <td>32.80187</td>\n",
       "      <td>91.558491</td>\n",
       "      <td>20.391639</td>\n",
       "      <td>23.204464</td>\n",
       "      <td>36.910930</td>\n",
       "      <td>5.292964</td>\n",
       "      <td>2.649008e+02</td>\n",
       "    </tr>\n",
       "    <tr>\n",
       "      <th>min</th>\n",
       "      <td>-54.80000</td>\n",
       "      <td>-179.166700</td>\n",
       "      <td>2.980000</td>\n",
       "      <td>5.000000</td>\n",
       "      <td>0.000000</td>\n",
       "      <td>0.000000</td>\n",
       "      <td>1.619473e+09</td>\n",
       "    </tr>\n",
       "    <tr>\n",
       "      <th>25%</th>\n",
       "      <td>-7.92785</td>\n",
       "      <td>-57.703975</td>\n",
       "      <td>44.600000</td>\n",
       "      <td>60.250000</td>\n",
       "      <td>20.000000</td>\n",
       "      <td>3.475000</td>\n",
       "      <td>1.619473e+09</td>\n",
       "    </tr>\n",
       "    <tr>\n",
       "      <th>50%</th>\n",
       "      <td>20.86455</td>\n",
       "      <td>26.024300</td>\n",
       "      <td>64.895000</td>\n",
       "      <td>75.000000</td>\n",
       "      <td>64.500000</td>\n",
       "      <td>6.330000</td>\n",
       "      <td>1.619473e+09</td>\n",
       "    </tr>\n",
       "    <tr>\n",
       "      <th>75%</th>\n",
       "      <td>48.64680</td>\n",
       "      <td>103.276025</td>\n",
       "      <td>78.010000</td>\n",
       "      <td>87.000000</td>\n",
       "      <td>90.000000</td>\n",
       "      <td>10.182500</td>\n",
       "      <td>1.619473e+09</td>\n",
       "    </tr>\n",
       "    <tr>\n",
       "      <th>max</th>\n",
       "      <td>78.21860</td>\n",
       "      <td>179.316700</td>\n",
       "      <td>100.990000</td>\n",
       "      <td>100.000000</td>\n",
       "      <td>100.000000</td>\n",
       "      <td>33.380000</td>\n",
       "      <td>1.619473e+09</td>\n",
       "    </tr>\n",
       "  </tbody>\n",
       "</table>\n",
       "</div>"
      ],
      "text/plain": [
       "             Lat         Lng    Max Temp    Humidity  Cloudiness  Wind Speed  \\\n",
       "count  590.00000  590.000000  590.000000  590.000000  590.000000  590.000000   \n",
       "mean    19.97864   21.948611   60.786644   69.515254   55.491525    7.509119   \n",
       "std     32.80187   91.558491   20.391639   23.204464   36.910930    5.292964   \n",
       "min    -54.80000 -179.166700    2.980000    5.000000    0.000000    0.000000   \n",
       "25%     -7.92785  -57.703975   44.600000   60.250000   20.000000    3.475000   \n",
       "50%     20.86455   26.024300   64.895000   75.000000   64.500000    6.330000   \n",
       "75%     48.64680  103.276025   78.010000   87.000000   90.000000   10.182500   \n",
       "max     78.21860  179.316700  100.990000  100.000000  100.000000   33.380000   \n",
       "\n",
       "               Date  \n",
       "count  5.900000e+02  \n",
       "mean   1.619473e+09  \n",
       "std    2.649008e+02  \n",
       "min    1.619473e+09  \n",
       "25%    1.619473e+09  \n",
       "50%    1.619473e+09  \n",
       "75%    1.619473e+09  \n",
       "max    1.619473e+09  "
      ]
     },
     "execution_count": 7,
     "metadata": {},
     "output_type": "execute_result"
    }
   ],
   "source": [
    "weather_data.describe()"
   ]
  },
  {
   "cell_type": "markdown",
   "metadata": {},
   "source": [
    "## Inspect the data and remove the cities where the humidity > 100%.\n",
    "----\n",
    "Skip this step if there are no cities that have humidity > 100%. "
   ]
  },
  {
   "cell_type": "code",
   "execution_count": 8,
   "metadata": {},
   "outputs": [
    {
     "data": {
      "text/html": [
       "<div>\n",
       "<style scoped>\n",
       "    .dataframe tbody tr th:only-of-type {\n",
       "        vertical-align: middle;\n",
       "    }\n",
       "\n",
       "    .dataframe tbody tr th {\n",
       "        vertical-align: top;\n",
       "    }\n",
       "\n",
       "    .dataframe thead th {\n",
       "        text-align: right;\n",
       "    }\n",
       "</style>\n",
       "<table border=\"1\" class=\"dataframe\">\n",
       "  <thead>\n",
       "    <tr style=\"text-align: right;\">\n",
       "      <th></th>\n",
       "      <th>City</th>\n",
       "      <th>Lat</th>\n",
       "      <th>Lng</th>\n",
       "      <th>Max Temp</th>\n",
       "      <th>Humidity</th>\n",
       "      <th>Cloudiness</th>\n",
       "      <th>Wind Speed</th>\n",
       "      <th>Country</th>\n",
       "      <th>Date</th>\n",
       "    </tr>\n",
       "  </thead>\n",
       "  <tbody>\n",
       "  </tbody>\n",
       "</table>\n",
       "</div>"
      ],
      "text/plain": [
       "Empty DataFrame\n",
       "Columns: [City, Lat, Lng, Max Temp, Humidity, Cloudiness, Wind Speed, Country, Date]\n",
       "Index: []"
      ]
     },
     "execution_count": 8,
     "metadata": {},
     "output_type": "execute_result"
    }
   ],
   "source": [
    "Humidity = weather_data.loc[weather_data[\"Humidity\"]>100]\n",
    "Humidity.head()"
   ]
  },
  {
   "cell_type": "code",
   "execution_count": null,
   "metadata": {},
   "outputs": [],
   "source": []
  },
  {
   "cell_type": "code",
   "execution_count": null,
   "metadata": {},
   "outputs": [],
   "source": []
  },
  {
   "cell_type": "code",
   "execution_count": 9,
   "metadata": {},
   "outputs": [],
   "source": [
    "#  Get the indices of cities that have humidity over 100%.\n"
   ]
  },
  {
   "cell_type": "code",
   "execution_count": 10,
   "metadata": {},
   "outputs": [],
   "source": [
    "# Make a new DataFrame equal to the city data to drop all humidity outliers by index.\n",
    "# Passing \"inplace=False\" will make a copy of the city_data DataFrame, which we call \"clean_city_data\".\n"
   ]
  },
  {
   "cell_type": "code",
   "execution_count": null,
   "metadata": {},
   "outputs": [],
   "source": [
    "\n"
   ]
  },
  {
   "cell_type": "markdown",
   "metadata": {},
   "source": [
    "## Plotting the Data\n",
    "* Use proper labeling of the plots using plot titles (including date of analysis) and axes labels.\n",
    "* Save the plotted figures as .pngs."
   ]
  },
  {
   "cell_type": "markdown",
   "metadata": {},
   "source": [
    "## Latitude vs. Temperature Plot"
   ]
  },
  {
   "cell_type": "code",
   "execution_count": 11,
   "metadata": {
    "scrolled": true
   },
   "outputs": [
    {
     "data": {
      "image/png": "[encoded data removed]",
      "text/plain": [
       "<Figure size 432x288 with 1 Axes>"
      ]
     },
     "metadata": {
      "needs_background": "light"
     },
     "output_type": "display_data"
    }
   ],
   "source": [
    "plt.scatter(weather_data[\"Lat\"], weather_data[\"Max Temp\"], edgecolors=\"black\")\n",
    "plt.title(\"City Latitude vs. Max Temperature\")\n",
    "plt.ylabel(\"Max Temperature (F)\")\n",
    "plt.xlabel(\"Latitude\")\n",
    "plt.grid(True)\n",
    "\n",
    "plt.savefig(\"../output_data/CityLat_vs_MaxTemp.png\")\n",
    "plt.show()"
   ]
  },
  {
   "cell_type": "markdown",
   "metadata": {},
   "source": [
    "## Latitude vs. Humidity Plot"
   ]
  },
  {
   "cell_type": "code",
   "execution_count": 12,
   "metadata": {},
   "outputs": [
    {
     "data": {
      "image/png": "[encoded data removed]",
      "text/plain": [
       "<Figure size 432x288 with 1 Axes>"
      ]
     },
     "metadata": {
      "needs_background": "light"
     },
     "output_type": "display_data"
    }
   ],
   "source": [
    "plt.scatter(weather_data[\"Lat\"], weather_data[\"Humidity\"], edgecolors=\"black\")\n",
    "plt.title(\"City Latitude vs. Humidity\")\n",
    "plt.ylabel(\"Humidity (%)\")\n",
    "plt.xlabel(\"Latitude\")\n",
    "plt.grid(True)\n",
    "\n",
    "plt.savefig(\"../output_data/CityLat_vs_Humidity.png\")\n",
    "plt.show()"
   ]
  },
  {
   "cell_type": "markdown",
   "metadata": {},
   "source": [
    "## Latitude vs. Cloudiness Plot"
   ]
  },
  {
   "cell_type": "code",
   "execution_count": 13,
   "metadata": {},
   "outputs": [
    {
     "data": {
      "image/png": "[encoded data removed]",
      "text/plain": [
       "<Figure size 432x288 with 1 Axes>"
      ]
     },
     "metadata": {
      "needs_background": "light"
     },
     "output_type": "display_data"
    }
   ],
   "source": [
    "plt.scatter(weather_data[\"Lat\"], weather_data[\"Cloudiness\"], edgecolors=\"black\")\n",
    "plt.title(\"City Latitude vs. Cloudiness\")\n",
    "plt.ylabel(\"Cloudiness (%)\")\n",
    "plt.xlabel(\"Latitude\")\n",
    "plt.grid(True)\n",
    "\n",
    "plt.savefig(\"../output_data/CityLat_vs_Cloudiness.png\")\n",
    "plt.show()"
   ]
  },
  {
   "cell_type": "markdown",
   "metadata": {},
   "source": [
    "## Latitude vs. Wind Speed Plot"
   ]
  },
  {
   "cell_type": "code",
   "execution_count": 14,
   "metadata": {},
   "outputs": [
    {
     "data": {
      "image/png": "[encoded data removed]",
      "text/plain": [
       "<Figure size 432x288 with 1 Axes>"
      ]
     },
     "metadata": {
      "needs_background": "light"
     },
     "output_type": "display_data"
    }
   ],
   "source": [
    "plt.scatter(weather_data[\"Lat\"], weather_data[\"Wind Speed\"], edgecolors=\"black\")\n",
    "plt.title(\"City Latitude vs. Wind Speed\")\n",
    "plt.ylabel(\"Wind Speed (mph)\")\n",
    "plt.xlabel(\"Latitude\")\n",
    "plt.grid(True)\n",
    "\n",
    "plt.savefig(\"../output_data/CityLat_vs_WindSpeed.png\")\n",
    "plt.show()"
   ]
  },
  {
   "cell_type": "markdown",
   "metadata": {},
   "source": [
    "## Linear Regression"
   ]
  },
  {
   "cell_type": "code",
   "execution_count": 15,
   "metadata": {},
   "outputs": [],
   "source": [
    "Northern_Hemisphere = weather_data.loc[weather_data['Lat'] > 0] \n",
    "Sorthern_Hemisphere = weather_data.loc[weather_data['Lat'] < 0]"
   ]
  },
  {
   "cell_type": "markdown",
   "metadata": {},
   "source": [
    "####  Northern Hemisphere - Max Temp vs. Latitude Linear Regression"
   ]
  },
  {
   "cell_type": "code",
   "execution_count": 16,
   "metadata": {},
   "outputs": [
    {
     "name": "stdout",
     "output_type": "stream",
     "text": [
      "The r-value is: -0.8884326361983046\n",
      "y = -0.96x + 93.65\n"
     ]
    },
    {
     "data": {
      "image/png": "[encoded data removed]",
      "text/plain": [
       "<Figure size 432x288 with 1 Axes>"
      ]
     },
     "metadata": {
      "needs_background": "light"
     },
     "output_type": "display_data"
    }
   ],
   "source": [
    "plt.scatter(Northern_Hemisphere['Lat'],Northern_Hemisphere['Max Temp'])\n",
    "plt.xlabel('Latitute')\n",
    "plt.ylabel('Max Temp')\n",
    "\n",
    "(slope, intercept, rvalue, pvalue, stderr) = linregress(Northern_Hemisphere['Lat'],Northern_Hemisphere['Max Temp'])\n",
    "regress_values = Northern_Hemisphere['Lat'] * slope + intercept\n",
    "line_eq = \"y = \" + str(round(slope,2)) + \"x + \" + str(round(intercept,2))\n",
    "r_string=f'The r-value is: {rvalue}'\n",
    "plt.plot(Northern_Hemisphere['Lat'],regress_values,\"r-\")\n",
    "\n",
    "plt.savefig(\"../output_data/NH_MaxTemp_vs_Lat.png\")\n",
    "print (f\"The r-value is: {rvalue}\")\n",
    "print (line_eq)\n",
    "plt.show()"
   ]
  },
  {
   "cell_type": "markdown",
   "metadata": {},
   "source": [
    "####  Southern Hemisphere - Max Temp vs. Latitude Linear Regression"
   ]
  },
  {
   "cell_type": "code",
   "execution_count": 17,
   "metadata": {},
   "outputs": [
    {
     "name": "stdout",
     "output_type": "stream",
     "text": [
      "The r-value is: 0.7221704280234572\n",
      "y = 0.59x + 80.76\n"
     ]
    },
    {
     "data": {
      "image/png": "[encoded data removed]",
      "text/plain": [
       "<Figure size 432x288 with 1 Axes>"
      ]
     },
     "metadata": {
      "needs_background": "light"
     },
     "output_type": "display_data"
    }
   ],
   "source": [
    "plt.scatter(Sorthern_Hemisphere['Lat'],Sorthern_Hemisphere['Max Temp'])\n",
    "plt.xlabel('Latitute')\n",
    "plt.ylabel('Max Temp')\n",
    "\n",
    "(slope, intercept, rvalue, pvalue, stderr) = linregress(Sorthern_Hemisphere['Lat'],Sorthern_Hemisphere['Max Temp'])\n",
    "regress_values = Sorthern_Hemisphere['Lat'] * slope + intercept\n",
    "line_eq = \"y = \" + str(round(slope,2)) + \"x + \" + str(round(intercept,2))\n",
    "r_string=f'The r-value is: {rvalue}'\n",
    "plt.plot(Sorthern_Hemisphere['Lat'],regress_values,\"r-\")\n",
    "\n",
    "plt.savefig(\"../output_data/SH_MaxTemp_vs_Lat.png\")\n",
    "print (f\"The r-value is: {rvalue}\")\n",
    "print (line_eq)\n",
    "plt.show()"
   ]
  },
  {
   "cell_type": "markdown",
   "metadata": {},
   "source": [
    "####  Northern Hemisphere - Humidity (%) vs. Latitude Linear Regression"
   ]
  },
  {
   "cell_type": "code",
   "execution_count": 18,
   "metadata": {},
   "outputs": [
    {
     "name": "stdout",
     "output_type": "stream",
     "text": [
      "The r-value is: 0.16679183480403267\n",
      "y = 0.2x + 57.79\n"
     ]
    },
    {
     "data": {
      "image/png": "[encoded data removed]",
      "text/plain": [
       "<Figure size 432x288 with 1 Axes>"
      ]
     },
     "metadata": {
      "needs_background": "light"
     },
     "output_type": "display_data"
    }
   ],
   "source": [
    "plt.scatter(Northern_Hemisphere['Lat'],Northern_Hemisphere['Humidity'])\n",
    "plt.xlabel('Latitute')\n",
    "plt.ylabel('Humidity')\n",
    "\n",
    "(slope, intercept, rvalue, pvalue, stderr) = linregress(Northern_Hemisphere['Lat'],Northern_Hemisphere['Humidity'])\n",
    "regress_values = Northern_Hemisphere['Lat'] * slope + intercept\n",
    "line_eq = \"y = \" + str(round(slope,2)) + \"x + \" + str(round(intercept,2))\n",
    "r_string=f'The r-value is: {rvalue}'\n",
    "plt.plot(Northern_Hemisphere['Lat'],regress_values,\"r-\")\n",
    "\n",
    "plt.savefig(\"../output_data/NH_Humidity_vs_Lat.png\")\n",
    "print (f\"The r-value is: {rvalue}\")\n",
    "print (line_eq)\n",
    "plt.show()"
   ]
  },
  {
   "cell_type": "markdown",
   "metadata": {},
   "source": [
    "####  Southern Hemisphere - Humidity (%) vs. Latitude Linear Regression"
   ]
  },
  {
   "cell_type": "code",
   "execution_count": 19,
   "metadata": {},
   "outputs": [
    {
     "name": "stdout",
     "output_type": "stream",
     "text": [
      "The r-value is: 0.15820972611958228\n",
      "y = 0.18x + 81.27\n"
     ]
    },
    {
     "data": {
      "image/png": "[encoded data removed]",
      "text/plain": [
       "<Figure size 432x288 with 1 Axes>"
      ]
     },
     "metadata": {
      "needs_background": "light"
     },
     "output_type": "display_data"
    }
   ],
   "source": [
    "plt.scatter(Sorthern_Hemisphere['Lat'],Sorthern_Hemisphere['Humidity'])\n",
    "plt.xlabel('Latitute')\n",
    "plt.ylabel('Humidity')\n",
    "\n",
    "(slope, intercept, rvalue, pvalue, stderr) = linregress(Sorthern_Hemisphere['Lat'],Sorthern_Hemisphere['Humidity'])\n",
    "regress_values = Sorthern_Hemisphere['Lat'] * slope + intercept\n",
    "line_eq = \"y = \" + str(round(slope,2)) + \"x + \" + str(round(intercept,2))\n",
    "r_string=f'The r-value is: {rvalue}'\n",
    "plt.plot(Sorthern_Hemisphere['Lat'],regress_values,\"r-\")\n",
    "\n",
    "plt.savefig(\"../output_data/SH_Humidity_vs_Lat.png\")\n",
    "print (f\"The r-value is: {rvalue}\")\n",
    "print (line_eq)\n",
    "plt.show()"
   ]
  },
  {
   "cell_type": "markdown",
   "metadata": {},
   "source": [
    "####  Northern Hemisphere - Cloudiness (%) vs. Latitude Linear Regression"
   ]
  },
  {
   "cell_type": "code",
   "execution_count": 20,
   "metadata": {},
   "outputs": [
    {
     "name": "stdout",
     "output_type": "stream",
     "text": [
      "The r-value is: 0.14410733983607202\n",
      "y = 0.26x + 45.93\n"
     ]
    },
    {
     "data": {
      "image/png": "[encoded data removed]",
      "text/plain": [
       "<Figure size 432x288 with 1 Axes>"
      ]
     },
     "metadata": {
      "needs_background": "light"
     },
     "output_type": "display_data"
    }
   ],
   "source": [
    "plt.scatter(Northern_Hemisphere['Lat'],Northern_Hemisphere['Cloudiness'])\n",
    "plt.xlabel('Latitute')\n",
    "plt.ylabel('Cloudiness (%)')\n",
    "\n",
    "#Calculate and Plot Regression\n",
    "(slope, intercept, rvalue, pvalue, stderr) = linregress(Northern_Hemisphere['Lat'],Northern_Hemisphere['Cloudiness'])\n",
    "regress_values = Northern_Hemisphere['Lat'] * slope + intercept\n",
    "line_eq = \"y = \" + str(round(slope,2)) + \"x + \" + str(round(intercept,2))\n",
    "r_string=f'The r-value is: {rvalue}'\n",
    "plt.plot(Northern_Hemisphere['Lat'],regress_values,\"r-\")\n",
    "\n",
    "plt.savefig(\"../output_data/NH_Cloudiness_vs_Lat.png\")\n",
    "print (f\"The r-value is: {rvalue}\")\n",
    "print (line_eq)\n",
    "plt.show()"
   ]
  },
  {
   "cell_type": "markdown",
   "metadata": {},
   "source": [
    "####  Southern Hemisphere - Cloudiness (%) vs. Latitude Linear Regression"
   ]
  },
  {
   "cell_type": "code",
   "execution_count": 21,
   "metadata": {},
   "outputs": [
    {
     "name": "stdout",
     "output_type": "stream",
     "text": [
      "The r-value is: 0.1546439500825946\n",
      "y = 0.42x + 62.42\n"
     ]
    },
    {
     "data": {
      "image/png": "[encoded data removed]",
      "text/plain": [
       "<Figure size 432x288 with 1 Axes>"
      ]
     },
     "metadata": {
      "needs_background": "light"
     },
     "output_type": "display_data"
    }
   ],
   "source": [
    "plt.scatter(Sorthern_Hemisphere['Lat'],Sorthern_Hemisphere['Cloudiness'])\n",
    "plt.xlabel('Latitute')\n",
    "plt.ylabel('Cloudiness (%)')\n",
    "\n",
    "(slope, intercept, rvalue, pvalue, stderr) = linregress(Sorthern_Hemisphere['Lat'],Sorthern_Hemisphere['Cloudiness'])\n",
    "regress_values = Sorthern_Hemisphere['Lat'] * slope + intercept\n",
    "line_eq = \"y = \" + str(round(slope,2)) + \"x + \" + str(round(intercept,2))\n",
    "r_string=f'The r-value is: {rvalue}'\n",
    "plt.plot(Sorthern_Hemisphere['Lat'],regress_values,\"r-\")\n",
    "\n",
    "plt.savefig(\"../output_data/SH_Cloudiness_vs_Lat.png\")\n",
    "print (f\"The r-value is: {rvalue}\")\n",
    "print (line_eq)\n",
    "plt.show()"
   ]
  },
  {
   "cell_type": "markdown",
   "metadata": {},
   "source": [
    "####  Northern Hemisphere - Wind Speed (mph) vs. Latitude Linear Regression"
   ]
  },
  {
   "cell_type": "code",
   "execution_count": 22,
   "metadata": {},
   "outputs": [
    {
     "name": "stdout",
     "output_type": "stream",
     "text": [
      "The r-value is: 0.050646504988624115\n",
      "y = 0.01x + 7.4\n"
     ]
    },
    {
     "data": {
      "image/png": "[encoded data removed]",
      "text/plain": [
       "<Figure size 432x288 with 1 Axes>"
      ]
     },
     "metadata": {
      "needs_background": "light"
     },
     "output_type": "display_data"
    }
   ],
   "source": [
    "plt.scatter(Northern_Hemisphere['Lat'],Northern_Hemisphere['Wind Speed'])\n",
    "plt.xlabel('Latitute')\n",
    "plt.ylabel('Wind Speed')\n",
    "\n",
    "(slope, intercept, rvalue, pvalue, stderr) = linregress(Northern_Hemisphere['Lat'],Northern_Hemisphere['Wind Speed'])\n",
    "regress_values = Northern_Hemisphere['Lat'] * slope + intercept\n",
    "line_eq = \"y = \" + str(round(slope,2)) + \"x + \" + str(round(intercept,2))\n",
    "r_string=f'The r-value is: {rvalue}'\n",
    "plt.plot(Northern_Hemisphere['Lat'],regress_values,\"r-\")\n",
    "\n",
    "plt.savefig(\"../output_data/NH_WindSpeed_vs_Lat.png\")\n",
    "print (f\"The r-value is: {rvalue}\")\n",
    "print (line_eq)\n",
    "plt.show()"
   ]
  },
  {
   "cell_type": "markdown",
   "metadata": {},
   "source": [
    "####  Southern Hemisphere - Wind Speed (mph) vs. Latitude Linear Regression"
   ]
  },
  {
   "cell_type": "code",
   "execution_count": 23,
   "metadata": {},
   "outputs": [
    {
     "name": "stdout",
     "output_type": "stream",
     "text": [
      "The r-value is: -0.15141510194650168\n",
      "y = -0.05x + 5.61\n"
     ]
    },
    {
     "data": {
      "image/png": "[encoded data removed]",
      "text/plain": [
       "<Figure size 432x288 with 1 Axes>"
      ]
     },
     "metadata": {
      "needs_background": "light"
     },
     "output_type": "display_data"
    }
   ],
   "source": [
    "plt.scatter(Sorthern_Hemisphere['Lat'],Sorthern_Hemisphere['Wind Speed'])\n",
    "plt.xlabel('Latitute')\n",
    "plt.ylabel('Wind Speed')\n",
    "\n",
    "(slope, intercept, rvalue, pvalue, stderr) = linregress(Sorthern_Hemisphere['Lat'],Sorthern_Hemisphere['Wind Speed'])\n",
    "regress_values = Sorthern_Hemisphere['Lat'] * slope + intercept\n",
    "line_eq = \"y = \" + str(round(slope,2)) + \"x + \" + str(round(intercept,2))\n",
    "r_string=f'The r-value is: {rvalue}'\n",
    "plt.plot(Sorthern_Hemisphere['Lat'],regress_values,\"r-\")\n",
    "\n",
    "plt.savefig(\"../output_data/SH_WindSpeed_vs_Lat.png\")\n",
    "print (f\"The r-value is: {rvalue}\")\n",
    "print (line_eq)\n",
    "plt.show()"
   ]
  }
 ],
 "metadata": {
  "anaconda-cloud": {},
  "kernel_info": {
   "name": "python3"
  },
  "kernelspec": {
   "display_name": "Python 3",
   "language": "python",
   "name": "python3"
  },
  "language_info": {
   "codemirror_mode": {
    "name": "ipython",
    "version": 3
   },
   "file_extension": ".py",
   "mimetype": "text/x-python",
   "name": "python",
   "nbconvert_exporter": "python",
   "pygments_lexer": "ipython3",
   "version": "3.8.5"
  },
  "latex_envs": {
   "LaTeX_envs_menu_present": true,
   "autoclose": false,
   "autocomplete": true,
   "bibliofile": "biblio.bib",
   "cite_by": "apalike",
   "current_citInitial": 1,
   "eqLabelWithNumbers": true,
   "eqNumInitial": 1,
   "hotkeys": {
    "equation": "Ctrl-E",
    "itemize": "Ctrl-I"
   },
   "labels_anchors": false,
   "latex_user_defs": false,
   "report_style_numbering": false,
   "user_envs_cfg": false
  },
  "nteract": {
   "version": "0.12.3"
  }
 },
 "nbformat": 4,
 "nbformat_minor": 2
}
